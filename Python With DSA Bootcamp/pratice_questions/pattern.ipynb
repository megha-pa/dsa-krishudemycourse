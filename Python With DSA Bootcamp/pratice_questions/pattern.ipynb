{
 "cells": [
  {
   "cell_type": "code",
   "execution_count": 22,
   "metadata": {},
   "outputs": [],
   "source": [
    "import logging\n",
    "\n",
    "\n",
    "def generate_triangle(n):\n",
    "    \"\"\"\n",
    "    Function to return a right-angled triangle of '*' of side n as a list of strings.\n",
    "\n",
    "    Parameters:\n",
    "    n (int): The height and base of the triangle.\n",
    "\n",
    "    Returns:\n",
    "    list: A list of strings where each string represents a row of the triangle.\n",
    "    \"\"\"\n",
    "    # Your code here\n",
    "    lst = []\n",
    "    for i in range(1, n + 1):\n",
    "        lst.append(\"*\" * i)\n",
    "        print(lst)\n",
    "        print(\"free\")\n",
    "    return lst"
   ]
  },
  {
   "cell_type": "code",
   "execution_count": 24,
   "metadata": {},
   "outputs": [
    {
     "name": "stdout",
     "output_type": "stream",
     "text": [
      "['*']\n",
      "free\n",
      "['*', '**']\n",
      "free\n",
      "['*', '**']\n"
     ]
    }
   ],
   "source": [
    "print(generate_triangle(2))"
   ]
  },
  {
   "cell_type": "code",
   "execution_count": 48,
   "metadata": {},
   "outputs": [
    {
     "name": "stdout",
     "output_type": "stream",
     "text": [
      "1\n",
      "2\n",
      "3\n"
     ]
    },
    {
     "data": {
      "text/plain": [
       "['*', '***', '*****']"
      ]
     },
     "execution_count": 48,
     "metadata": {},
     "output_type": "execute_result"
    }
   ],
   "source": [
    "def generate_pyramid(n):\n",
    "    \"\"\"\n",
    "    Function to return a pyramid pattern of '*' of side n as a list of strings.\n",
    "\n",
    "    Parameters:\n",
    "    n (int): The number of rows in the pyramid.\n",
    "\n",
    "    Returns:\n",
    "    list: A list of strings where each string represents a row of the pyramid.\n",
    "    \"\"\"\n",
    "    # Your code here\n",
    "    lst = []\n",
    "    for i in range(1, n + 1):\n",
    "        print(i)\n",
    "        lst.append(\"*\" * (2 * i - 1))\n",
    "    return lst\n",
    "\n",
    "\n",
    "generate_pyramid(3)"
   ]
  },
  {
   "cell_type": "code",
   "execution_count": null,
   "metadata": {},
   "outputs": [],
   "source": [
    "* 2*1-1 1\n",
    "*** 2*2-1 3\n",
    "***** 2*3-1 5"
   ]
  },
  {
   "cell_type": "code",
   "execution_count": 53,
   "metadata": {},
   "outputs": [
    {
     "data": {
      "text/plain": [
       "['*****', ' *** ', '  *  ']"
      ]
     },
     "execution_count": 53,
     "metadata": {},
     "output_type": "execute_result"
    }
   ],
   "source": [
    "def generate_inverted_pyramid(n):\n",
    "    \"\"\"\n",
    "    Function to return an inverted pyramid pattern of '*' of side n as a list of strings.\n",
    "\n",
    "    Parameters:\n",
    "    n (int): The number of rows in the inverted pyramid.\n",
    "\n",
    "    Returns:\n",
    "    list: A list of strings where each string represents a row of the inverted pyramid.\n",
    "    \"\"\"\n",
    "    # Your code here\n",
    "    lst = []\n",
    "    for i in range(n, 0, -1):\n",
    "        star = \"*\" * (2 * i - 1)\n",
    "        spaces = \" \" * (n - i)\n",
    "        lst.append(spaces + star + spaces)\n",
    "    return lst\n",
    "\n",
    "\n",
    "generate_inverted_pyramid(3)"
   ]
  },
  {
   "cell_type": "code",
   "execution_count": 57,
   "metadata": {},
   "outputs": [
    {
     "data": {
      "text/plain": [
       "['1', '22', '333', '4444', '55555']"
      ]
     },
     "execution_count": 57,
     "metadata": {},
     "output_type": "execute_result"
    }
   ],
   "source": [
    "def generate_number_triangle(n):\n",
    "    \"\"\"\n",
    "    Function to return a right-angled triangle of repeated numbers of side n as a list of strings.\n",
    "\n",
    "    Parameters:\n",
    "    n (int): The height of the triangle.\n",
    "\n",
    "    Returns:\n",
    "    list: A list of strings where each string represents a row of the triangle.\n",
    "    \"\"\"\n",
    "    # Your code here\n",
    "\n",
    "    lst = []\n",
    "    for i in range(1, n + 1):\n",
    "        lst.append(str(i) * i)\n",
    "    return lst\n",
    "\n",
    "\n",
    "generate_number_triangle(5)"
   ]
  },
  {
   "cell_type": "code",
   "execution_count": 24,
   "metadata": {},
   "outputs": [
    {
     "name": "stdout",
     "output_type": "stream",
     "text": [
      "1 1\n",
      "2 1\n",
      "2 2\n",
      "4 2\n",
      "4 3\n",
      "7 3\n",
      "7 4\n",
      "11 4\n",
      "11 5\n",
      "16 5\n"
     ]
    },
    {
     "data": {
      "text/plain": [
       "['1', '2 3', '4 5 6', '7 8 9 10', '11 12 13 14 15']"
      ]
     },
     "execution_count": 24,
     "metadata": {},
     "output_type": "execute_result"
    }
   ],
   "source": [
    "def generate_floyds_triangle(n):\n",
    "    \"\"\"\n",
    "    Function to return the first n rows of Floyd's Triangle as a list of strings.\n",
    "\n",
    "    Parameters:\n",
    "    n (int): The number of rows in the triangle.\n",
    "\n",
    "    Returns:\n",
    "    list: A list of strings where each string represents a row of Floyd's Triangle.\n",
    "    \"\"\"\n",
    "    # Your code here\n",
    "    lst = []\n",
    "    current_num = 1\n",
    "    for i in range(1, n + 1):\n",
    "        row = \" \".join(str(current_num + j) for j in range(i))\n",
    "        print(current_num, i)\n",
    "        lst.append(row)\n",
    "        current_num += i\n",
    "        print(current_num, i)\n",
    "    return lst\n",
    "\n",
    "\n",
    "generate_floyds_triangle(5)"
   ]
  },
  {
   "cell_type": "code",
   "execution_count": 28,
   "metadata": {},
   "outputs": [
    {
     "name": "stdout",
     "output_type": "stream",
     "text": [
      "['1', '2 3', '4 5 6', '7 8 9 10', '11 12 13 14 15', '16 17 18 19 20 21']\n"
     ]
    }
   ],
   "source": [
    "lst = []\n",
    "cm = 1\n",
    "n = 6\n",
    "for i in range(1, n + 1):\n",
    "    row = \" \".join(str((cm) + j) for j in range(i))\n",
    "    lst.append(row)\n",
    "    cm += i\n",
    "print(lst)"
   ]
  },
  {
   "cell_type": "code",
   "execution_count": 52,
   "metadata": {},
   "outputs": [
    {
     "data": {
      "text/plain": [
       "['  *', ' ***', '*****', ' ***', '  *']"
      ]
     },
     "execution_count": 52,
     "metadata": {},
     "output_type": "execute_result"
    }
   ],
   "source": [
    "def generate_diamond(n):\n",
    "    \"\"\"\n",
    "    Function to return a diamond pattern of '*' of side n as a list of strings.\n",
    "\n",
    "    Parameters:\n",
    "    n (int): The number of rows for the upper part of the diamond.\n",
    "\n",
    "    Returns:\n",
    "    list: A list of strings where each string represents a row of the diamond.\n",
    "    \"\"\"\n",
    "    # Your code here\n",
    "    lst = []\n",
    "    for i in range(1, n + 1):\n",
    "        spaces = \" \" * (n - i)\n",
    "        row = \"*\" * (2 * i - 1)\n",
    "        lst.append(spaces + row)\n",
    "    for j in range((n + 1) // 2, 0, -1):\n",
    "        spaces = \" \" * (n - j)\n",
    "        row = \"*\" * (2 * j - 1)\n",
    "        lst.append(spaces + row)\n",
    "    return lst\n",
    "\n",
    "\n",
    "generate_diamond(3)"
   ]
  },
  {
   "cell_type": "code",
   "execution_count": null,
   "metadata": {},
   "outputs": [],
   "source": [
    "Input: 3\n",
    "Output: [\"  *  \", \" *** \", \"*****\", \" *** \", \"  *  \"]\n",
    "\n",
    "Input: 5\n",
    "Output: [\n",
    "    \"    *    \",\n",
    "    \"   ***   \",\n",
    "    \"  *****  \",\n",
    "    \" ******* \",\n",
    "    \"*********\",\n",
    "    \" ******* \",\n",
    "    \"  *****  \",\n",
    "    \"   ***   \",\n",
    "    \"    *    \",\n",
    "]"
   ]
  },
  {
   "cell_type": "code",
   "execution_count": 57,
   "metadata": {},
   "outputs": [
    {
     "data": {
      "text/plain": [
       "['  *', ' **', '***']"
      ]
     },
     "execution_count": 57,
     "metadata": {},
     "output_type": "execute_result"
    }
   ],
   "source": [
    "def generate_right_angled_triangle(n):\n",
    "    \"\"\"\n",
    "    Function to return a right-angled triangle of '*' of side n as a list of strings.\n",
    "\n",
    "    Parameters:\n",
    "    n (int): The height of the triangle.\n",
    "\n",
    "    Returns:\n",
    "    list: A list of strings where each string represents a row of the triangle.\n",
    "    \"\"\"\n",
    "    # Your code here\n",
    "    lst = []\n",
    "    for i in range(1, n + 1):\n",
    "        spaces = \" \" * (n - i)\n",
    "        row = \"*\" * (i)\n",
    "        lst.append(spaces + row)\n",
    "    return lst\n",
    "\n",
    "\n",
    "generate_right_angled_triangle(3)"
   ]
  },
  {
   "cell_type": "code",
   "execution_count": 132,
   "metadata": {},
   "outputs": [
    {
     "name": "stdout",
     "output_type": "stream",
     "text": [
      "i 3\n",
      "i 2\n",
      "i 1\n",
      "i\n",
      "0\n",
      "i\n",
      "1\n"
     ]
    },
    {
     "data": {
      "text/plain": [
       "['*****', ' *** ', '  *  ', ' *** ', '*****']"
      ]
     },
     "execution_count": 132,
     "metadata": {},
     "output_type": "execute_result"
    }
   ],
   "source": [
    "def generate_sandglass(n):\n",
    "    \"\"\"\n",
    "    Function to return a sandglass pattern of '*' of side n as a list of strings.\n",
    "\n",
    "    Parameters:\n",
    "    n (int): The height of the sandglass.\n",
    "\n",
    "    Returns:\n",
    "    list: A list of strings where each string represents a row of the sandglass pattern.\n",
    "    \"\"\"\n",
    "\n",
    "    # Your code here\n",
    "    lst = []\n",
    "    for i in range(n, 0, -1):\n",
    "        print(\"i\", i)\n",
    "        star = \"*\" * (2 * i - 1)\n",
    "        spaces = \" \" * (n - i)\n",
    "        lst.append(spaces + star + spaces)\n",
    "    for i in range(n - 1):\n",
    "        print(\"i\")\n",
    "        print(i)\n",
    "        star = \"*\" * (2 * (i + 1) + 1)\n",
    "        spaces = \" \" * (n - i - 2)\n",
    "        lst.append(spaces + star + spaces)\n",
    "    return lst\n",
    "\n",
    "\n",
    "generate_sandglass(3)"
   ]
  },
  {
   "cell_type": "code",
   "execution_count": 159,
   "metadata": {},
   "outputs": [
    {
     "data": {
      "text/plain": [
       "['****', '* *', '**', '*']"
      ]
     },
     "execution_count": 159,
     "metadata": {},
     "output_type": "execute_result"
    }
   ],
   "source": [
    "def generate_hollow_right_angled_triangle(n):\n",
    "    \"\"\"\n",
    "    Function to return a hollow right-angled triangle of '*' of side n as a list of strings.\n",
    "\n",
    "    Parameters:\n",
    "    n (int): The height of the triangle.\n",
    "\n",
    "    Returns:\n",
    "    list: A list of strings where each string represents a row of the triangle.\n",
    "    \"\"\"\n",
    "    # Your code here\n",
    "    triangle = []\n",
    "\n",
    "    # Loop through each row from 1 to n\n",
    "    for i in range(n, 0, -1):\n",
    "        # For the first row, just add one star\n",
    "        if i == 1:\n",
    "\n",
    "            triangle.append(\"*\")\n",
    "        # For the last row, add 'n' stars\n",
    "        elif i == n:\n",
    "            triangle.append(\"*\" * n)\n",
    "        # For the intermediate rows, add a star, spaces, and another star\n",
    "        else:\n",
    "            # Add the row: one star, and one star\n",
    "            spaces = \" \" * (i - 2)\n",
    "            triangle.append(\"*\" + spaces + \"*\")\n",
    "            # triangle.append(\"*\" + \" \" * (i - 2) + \"*\")\n",
    "\n",
    "    # Return the list of triangle rows\n",
    "    return triangle\n",
    "\n",
    "\n",
    "generate_hollow_right_angled_triangle(4)"
   ]
  },
  {
   "cell_type": "code",
   "execution_count": null,
   "metadata": {},
   "outputs": [],
   "source": [
    "Output: [\"****\", \"* *\", \"**\", \"*\"]"
   ]
  },
  {
   "cell_type": "code",
   "execution_count": 166,
   "metadata": {},
   "outputs": [
    {
     "data": {
      "text/plain": [
       "['   1   ', '  1 2  ', ' 1 2 3 ', '1 2 3 4']"
      ]
     },
     "execution_count": 166,
     "metadata": {},
     "output_type": "execute_result"
    }
   ],
   "source": [
    "def generate_number_pyramid(n):\n",
    "    \"\"\"\n",
    "    Function to return a pyramid pattern of numbers of height n as a list of strings.\n",
    "\n",
    "    Parameters:\n",
    "    n (int): The height of the pyramid.\n",
    "\n",
    "    Returns:\n",
    "    list: A list of strings where each string represents a row of the pyramid pattern.\n",
    "    \"\"\"\n",
    "    # Your code here\n",
    "    lst = []\n",
    "    for i in range(1, n + 1):\n",
    "        spaces = \" \" * (n - i)\n",
    "        start = \" \".join(str(j) for j in range(1, i + 1))\n",
    "        row = spaces + start + spaces\n",
    "        lst.append(row)\n",
    "    return lst\n",
    "\n",
    "\n",
    "generate_number_pyramid(4)"
   ]
  },
  {
   "cell_type": "code",
   "execution_count": null,
   "metadata": {},
   "outputs": [],
   "source": []
  },
  {
   "cell_type": "code",
   "execution_count": null,
   "metadata": {},
   "outputs": [],
   "source": [
    "Input: 4\n",
    "Output: [\"   1   \", \"  1 2  \", \" 1 2 3 \", \"1 2 3 4\"]\n",
    "\n",
    "Input: 3\n",
    "Output: [\"  1  \", \" 1 2 \", \"1 2 3\"]"
   ]
  },
  {
   "cell_type": "code",
   "execution_count": 188,
   "metadata": {},
   "outputs": [
    {
     "name": "stdout",
     "output_type": "stream",
     "text": [
      "[1, 2, 3, 4, 5]\n",
      "4\n",
      "4\n",
      "3\n",
      "2\n",
      "1\n",
      "0\n"
     ]
    },
    {
     "data": {
      "text/plain": [
       "[5, 4, 3, 2, 1]"
      ]
     },
     "execution_count": 188,
     "metadata": {},
     "output_type": "execute_result"
    }
   ],
   "source": [
    "def reverse_list(lst):\n",
    "    # Your code goes here\n",
    "    print(lst)\n",
    "    lstrev = []\n",
    "    max = len(lst) - 1\n",
    "    print(max)\n",
    "    for i in range(max, -1, -1):\n",
    "        print(i)\n",
    "        lstrev.append(lst[i])\n",
    "        # print(lst[i])\n",
    "    return lstrev\n",
    "\n",
    "\n",
    "reverse_list([1, 2, 3, 4, 5])"
   ]
  },
  {
   "cell_type": "code",
   "execution_count": 213,
   "metadata": {},
   "outputs": [
    {
     "name": "stdout",
     "output_type": "stream",
     "text": [
      "2\n",
      "h\n",
      "4\n",
      "h\n",
      "6\n",
      "h\n",
      "8\n",
      "h\n",
      "10\n",
      "h\n"
     ]
    },
    {
     "data": {
      "text/plain": [
       "(5, 0)"
      ]
     },
     "execution_count": 213,
     "metadata": {},
     "output_type": "execute_result"
    }
   ],
   "source": [
    "def count_even_odd(lst):\n",
    "    # Your code goes here\n",
    "    ecount = 0\n",
    "    ocount = 0\n",
    "    for i in lst:\n",
    "        print(i)\n",
    "        if i % 2 == 0:\n",
    "            print(\"h\")\n",
    "            ecount += 1\n",
    "        else:\n",
    "            ocount += 1\n",
    "    return tuple([ecount, ocount])\n",
    "    print(\"count\", ecount)\n",
    "\n",
    "\n",
    "count_even_odd([2, 4, 6, 8, 10])"
   ]
  },
  {
   "cell_type": "code",
   "execution_count": 217,
   "metadata": {},
   "outputs": [
    {
     "name": "stdout",
     "output_type": "stream",
     "text": [
      "[6, 4, 7, 5]\n"
     ]
    },
    {
     "data": {
      "text/plain": [
       "7"
      ]
     },
     "execution_count": 217,
     "metadata": {},
     "output_type": "execute_result"
    }
   ],
   "source": [
    "def max_consecutive_difference(lst):\n",
    "    # Your code goes here\n",
    "    dl = []\n",
    "    for i in range(len(lst) - 1):\n",
    "        diff = abs(lst[i] - lst[i + 1])\n",
    "        dl.append(diff)\n",
    "    print(dl)\n",
    "    return max(dl)\n",
    "\n",
    "\n",
    "max_consecutive_difference([1, 7, 3, 10, 5])"
   ]
  },
  {
   "cell_type": "code",
   "execution_count": 266,
   "metadata": {},
   "outputs": [
    {
     "name": "stdout",
     "output_type": "stream",
     "text": [
      "k 1\n"
     ]
    },
    {
     "data": {
      "text/plain": [
       "[50, 10, 20, 30, 40]"
      ]
     },
     "execution_count": 266,
     "metadata": {},
     "output_type": "execute_result"
    }
   ],
   "source": [
    "def rotate_list(lst, k):\n",
    "    # Your code goes here\n",
    "\n",
    "    new_lst = []\n",
    "    k = k % len(lst)\n",
    "    print(\"k\", k)\n",
    "\n",
    "    for j in range(len(lst) - k, len(lst)):\n",
    "        new_lst.append(lst[j])\n",
    "    for i in range(0, len(lst) - k):\n",
    "        new_lst.append(lst[i])\n",
    "    return new_lst\n",
    "\n",
    "\n",
    "rotate_list([10, 20, 30, 40, 50], 6)\n",
    "# rotate_list([1, 2, 3, 4, 5],2)"
   ]
  },
  {
   "cell_type": "code",
   "execution_count": null,
   "metadata": {},
   "outputs": [],
   "source": []
  },
  {
   "cell_type": "code",
   "execution_count": 291,
   "metadata": {},
   "outputs": [
    {
     "data": {
      "text/plain": [
       "{'a': 3, 'b': 2, 'd': 4, 'e': 5, 'f': 6}"
      ]
     },
     "execution_count": 291,
     "metadata": {},
     "output_type": "execute_result"
    }
   ],
   "source": [
    "def merge_three_dictionaries(dict1, dict2, dict3):\n",
    "    dict1.update(dict2)\n",
    "    dict1.update(dict3)\n",
    "    return dict1\n",
    "\n",
    "\n",
    "merge_three_dictionaries({\"a\": 1, \"b\": 2}, {\"a\": 3, \"d\": 4}, {\"e\": 5, \"f\": 6})"
   ]
  },
  {
   "cell_type": "code",
   "execution_count": null,
   "metadata": {},
   "outputs": [],
   "source": []
  },
  {
   "cell_type": "code",
   "execution_count": 293,
   "metadata": {},
   "outputs": [
    {
     "data": {
      "text/plain": [
       "{'hello': 2, 'world': 1}"
      ]
     },
     "execution_count": 293,
     "metadata": {},
     "output_type": "execute_result"
    }
   ],
   "source": [
    "def count_word_frequency(sentence):\n",
    "    word_count = {}\n",
    "    for word in sentence.split(\" \"):\n",
    "        if word in word_count.keys():\n",
    "            word_count[word] += 1\n",
    "        else:\n",
    "            word_count[word] = 1\n",
    "    return word_count\n",
    "\n",
    "\n",
    "count_word_frequency(\"hello world hello\")"
   ]
  },
  {
   "cell_type": "code",
   "execution_count": null,
   "metadata": {},
   "outputs": [],
   "source": [
    "def merge_three_dictionaries(dict1, dict2, dict3):\n",
    "    dict1.update(dict2)\n",
    "    dict1.update(dict3)\n",
    "    return dict1\n",
    "\n",
    "\n",
    "merge_three_dictionaries({\"a\": 1, \"b\": 2}, {\"a\": 3, \"d\": 4}, {\"e\": 5, \"f\": 6})"
   ]
  },
  {
   "cell_type": "code",
   "execution_count": null,
   "metadata": {},
   "outputs": [],
   "source": [
    "10/2= q=5 r=0\n",
    "5/2= q=2 r=1\n",
    "1        0\n",
    "10/2"
   ]
  },
  {
   "cell_type": "code",
   "execution_count": 309,
   "metadata": {},
   "outputs": [
    {
     "name": "stdout",
     "output_type": "stream",
     "text": [
      "8\n",
      "12\n",
      "12\n",
      "13\n"
     ]
    }
   ],
   "source": [
    "def binary_to_decimal(binary_str):\n",
    "    \"\"\"\n",
    "    Function to convert a binary string to its decimal integer representation.\n",
    "\n",
    "    Parameters:\n",
    "    binary_str (str): The binary string to convert.\n",
    "\n",
    "    Returns:\n",
    "    int: The decimal representation of the binary string.\n",
    "    \"\"\"\n",
    "    # Your code here\n",
    "\n",
    "\n",
    "binary_to_decimal(\"1101\")"
   ]
  },
  {
   "cell_type": "code",
   "execution_count": null,
   "metadata": {},
   "outputs": [],
   "source": [
    "def gcd_g(n, m):\n",
    "    while n > 0:\n",
    "        remainder = n % m\n",
    "        n = m\n",
    "        m = remainder\n",
    "\n",
    "\n",
    "return n"
   ]
  },
  {
   "cell_type": "code",
   "execution_count": 312,
   "metadata": {},
   "outputs": [
    {
     "data": {
      "text/plain": [
       "[1, 4, 9, 2025]"
      ]
     },
     "execution_count": 312,
     "metadata": {},
     "output_type": "execute_result"
    }
   ],
   "source": [
    "lst = [\n",
    "    1,\n",
    "    2,\n",
    "    3,\n",
    "    45,\n",
    "]\n",
    "\n",
    "\n",
    "def mul(num):\n",
    "    return num * num\n",
    "\n",
    "\n",
    "list(map(mul, lst))"
   ]
  },
  {
   "cell_type": "code",
   "execution_count": 317,
   "metadata": {},
   "outputs": [
    {
     "data": {
      "text/plain": [
       "7"
      ]
     },
     "execution_count": 317,
     "metadata": {},
     "output_type": "execute_result"
    }
   ],
   "source": [
    "def count_consonants(s):\n",
    "    \"\"\"\n",
    "    Function to count the number of consonants in the input string.\n",
    "\n",
    "    Parameters:\n",
    "    s (str): The input string to check for consonants.\n",
    "\n",
    "    Returns:\n",
    "    int: The count of consonants in the input string.\n",
    "    \"\"\"\n",
    "    # Your code here\n",
    "    vowel = [\"a\", \"e\", \"i\", \"o\", \"u\"]\n",
    "    count = 0\n",
    "    for char in s:\n",
    "        if char.isalpha():\n",
    "            if char not in vowel:\n",
    "                count += 1\n",
    "        else:\n",
    "            pass\n",
    "\n",
    "    return count\n",
    "\n",
    "\n",
    "count_consonants(\"Hello, World!\")"
   ]
  },
  {
   "cell_type": "code",
   "execution_count": 351,
   "metadata": {},
   "outputs": [
    {
     "name": "stdout",
     "output_type": "stream",
     "text": [
      "a a\n",
      "a b\n",
      "a c\n",
      "a d\n",
      "a e\n",
      "e b\n",
      "e c\n",
      "e d\n",
      "e e\n",
      "c c\n",
      "c d\n",
      "c e\n"
     ]
    },
    {
     "data": {
      "text/plain": [
       "False"
      ]
     },
     "execution_count": 351,
     "metadata": {},
     "output_type": "execute_result"
    }
   ],
   "source": [
    "def is_subsequence(s, t):\n",
    "    \"\"\"\n",
    "    Function to check if t is a subsequence of s.\n",
    "\n",
    "    Parameters:\n",
    "    s (str): The original string.\n",
    "    t (str): The target subsequence string.\n",
    "\n",
    "    Returns:\n",
    "    bool: True if t is a subsequence of s, False otherwise.\n",
    "    \"\"\"\n",
    "    # Your code here\n",
    "\n",
    "\n",
    "is_subsequence(s=\"abcde\", t=\"aec\")"
   ]
  }
 ],
 "metadata": {
  "kernelspec": {
   "display_name": "dsacourse",
   "language": "python",
   "name": "python3"
  },
  "language_info": {
   "codemirror_mode": {
    "name": "ipython",
    "version": 3
   },
   "file_extension": ".py",
   "mimetype": "text/x-python",
   "name": "python",
   "nbconvert_exporter": "python",
   "pygments_lexer": "ipython3",
   "version": "3.12.0"
  }
 },
 "nbformat": 4,
 "nbformat_minor": 2
}
