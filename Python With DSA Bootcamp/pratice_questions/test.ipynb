{
 "cells": [
  {
   "cell_type": "code",
   "execution_count": 7,
   "metadata": {},
   "outputs": [
    {
     "name": "stdout",
     "output_type": "stream",
     "text": [
      "4\n"
     ]
    }
   ],
   "source": [
    "def find_max_consecutive_ones(nums):\n",
    "    \"\"\"\n",
    "    Function to find the maximum number of consecutive 1's in a binary array.\n",
    "    :param nums: List[int] -> A binary array where each element is either 0 or 1\n",
    "    :return: int -> The maximum number of consecutive 1's\n",
    "    \"\"\"\n",
    "    # TODO: Implement this function\n",
    "    current = 0\n",
    "    maxp = 0\n",
    "    for num in nums:\n",
    "        if num == 1:\n",
    "            current += 1\n",
    "        else:\n",
    "            maxp = current\n",
    "            current = 0\n",
    "    return max(current, maxp)\n",
    "\n",
    "\n",
    "print(find_max_consecutive_ones([1, 0, 1, 1, 0, 1, 1, 1, 1]))"
   ]
  },
  {
   "cell_type": "code",
   "execution_count": 17,
   "metadata": {},
   "outputs": [
    {
     "name": "stdout",
     "output_type": "stream",
     "text": [
      "6\n",
      "6\n"
     ]
    }
   ],
   "source": [
    "def max_subarray_sum(arr):\n",
    "    \"\"\"\n",
    "    Given an array of integers, find the maximum sum of any subarray.\n",
    "\n",
    "    Parameters:\n",
    "    arr (List[int]): List of integers.\n",
    "\n",
    "    Returns:\n",
    "    int: Maximum sum of any subarray.\n",
    "    \"\"\"\n",
    "    # Implement the function\n",
    "    max_sum = 0\n",
    "    current_sum = 0\n",
    "    n = len(arr)\n",
    "    for i in range(0, n):\n",
    "        current_sum += arr[i]\n",
    "        if current_sum < 0:\n",
    "            current_sum = 0\n",
    "        max_sum = max(current_sum, max_sum)\n",
    "    print(max_sum)\n",
    "    return max_sum\n",
    "\n",
    "\n",
    "print(max_subarray_sum([-2, 1, -3, 4, -1, 2, 1, -5, 4]))"
   ]
  },
  {
   "cell_type": "code",
   "execution_count": 98,
   "metadata": {},
   "outputs": [
    {
     "name": "stdout",
     "output_type": "stream",
     "text": [
      "1 12 123 1234 12345 \n",
      "2 23 234 2345 \n",
      "3 34 345 \n",
      "4 45 \n",
      "5 \n"
     ]
    }
   ],
   "source": [
    "def find_subarray(arr):\n",
    "    for start in range(0, len(arr)):\n",
    "        for end in range(start, len(arr)):\n",
    "            for i in range(start, end + 1):\n",
    "\n",
    "                print(arr[i], end=\"\")\n",
    "            print(\" \", end=\"\")\n",
    "            # print(arr)\n",
    "            # print(\" \", end=\"\")\n",
    "        print()\n",
    "\n",
    "\n",
    "find_subarray([1, 2, 3, 4, 5])"
   ]
  },
  {
   "cell_type": "code",
   "execution_count": 106,
   "metadata": {},
   "outputs": [
    {
     "data": {
      "text/plain": [
       "15"
      ]
     },
     "execution_count": 106,
     "metadata": {},
     "output_type": "execute_result"
    }
   ],
   "source": [
    "def sub_arr(arr):\n",
    "    max_sum = 0\n",
    "    for start in range(0, len(arr)):\n",
    "        current_sum = 0\n",
    "        for end in range(start, len(arr)):\n",
    "            current_sum += arr[end]\n",
    "            max_sum = max(current_sum, max_sum)\n",
    "\n",
    "    return max_sum\n",
    "\n",
    "\n",
    "sub_arr([1, 2, 3, 4, 5])"
   ]
  },
  {
   "cell_type": "code",
   "execution_count": null,
   "metadata": {},
   "outputs": [],
   "source": []
  },
  {
   "cell_type": "code",
   "execution_count": null,
   "metadata": {},
   "outputs": [],
   "source": []
  },
  {
   "cell_type": "code",
   "execution_count": null,
   "metadata": {},
   "outputs": [],
   "source": []
  },
  {
   "cell_type": "code",
   "execution_count": 101,
   "metadata": {},
   "outputs": [
    {
     "name": "stdout",
     "output_type": "stream",
     "text": [
      "1 12 123 1234 12345 \n",
      "2 23 234 2345 \n",
      "3 34 345 \n",
      "4 45 \n",
      "5 \n"
     ]
    }
   ],
   "source": [
    "def find_subarray(arr):\n",
    "    for start in range(0, len(arr)):\n",
    "        for end in range(start, len(arr)):\n",
    "            for i in range(start, end + 1):\n",
    "\n",
    "                print(arr[i], end=\"\")\n",
    "            print(\" \", end=\"\")\n",
    "            # print(arr)\n",
    "            # print(\" \", end=\"\")\n",
    "        print()\n",
    "\n",
    "\n",
    "find_subarray([1, 2, 3, 4, 5])"
   ]
  },
  {
   "cell_type": "code",
   "execution_count": 108,
   "metadata": {},
   "outputs": [
    {
     "data": {
      "text/plain": [
       "15"
      ]
     },
     "execution_count": 108,
     "metadata": {},
     "output_type": "execute_result"
    }
   ],
   "source": [
    "def kadane_algorithem(arr):\n",
    "    current_sum = 0\n",
    "    max_sum = 0\n",
    "    for i in range(len(arr)):\n",
    "        current_sum += arr[i]\n",
    "        max_sum = max(current_sum, max_sum)\n",
    "        if current_sum < 0:\n",
    "            current_sum = 0\n",
    "    return max_sum\n",
    "\n",
    "\n",
    "kadane_algorithem([1, 2, 3, 4, 5])"
   ]
  },
  {
   "cell_type": "code",
   "execution_count": 110,
   "metadata": {},
   "outputs": [
    {
     "data": {
      "text/plain": [
       "15"
      ]
     },
     "execution_count": 110,
     "metadata": {},
     "output_type": "execute_result"
    }
   ],
   "source": [
    "def max_sub(arr):\n",
    "    if not arr:\n",
    "        return 0\n",
    "    current_sum = 0\n",
    "    max_sum = float(\"-inf\")\n",
    "    for i in range(len(arr)):\n",
    "        current_sum += arr[i]\n",
    "        max_sum = max(current_sum, max_sum)\n",
    "        if current_sum < 0:\n",
    "            current_sum = 0\n",
    "    return max_sum\n",
    "\n",
    "\n",
    "max_sub([1, 2, 3, 4, 5])"
   ]
  },
  {
   "cell_type": "code",
   "execution_count": 124,
   "metadata": {},
   "outputs": [
    {
     "name": "stdout",
     "output_type": "stream",
     "text": [
      "1 12 123 1234 12345 \n",
      "2 23 234 2345 \n",
      "3 34 345 \n",
      "4 45 \n",
      "5 \n"
     ]
    }
   ],
   "source": [
    "def printmp(arr):\n",
    "    for i in range(len(arr)):\n",
    "        for j in range(i, len(arr)):\n",
    "            for k in range(i, j + 1):\n",
    "                print(arr[k], end=\"\")\n",
    "            print(end=\" \")\n",
    "        print()\n",
    "\n",
    "\n",
    "printmp([1, 2, 3, 4, 5])"
   ]
  },
  {
   "cell_type": "code",
   "execution_count": 138,
   "metadata": {},
   "outputs": [
    {
     "name": "stdout",
     "output_type": "stream",
     "text": [
      "[1]\n",
      "[1, 1]\n",
      "[1, 2, 1]\n",
      "[1, 3, 3, 1]\n",
      "[1, 4, 6, 4, 1]\n"
     ]
    }
   ],
   "source": [
    "def pasc_test(numrows):\n",
    "    triangle = []\n",
    "    for i in range(numrows):\n",
    "        row = [1] * (i + 1)\n",
    "        for j in range(1, i):\n",
    "            row[j] = triangle[i - 1][j - 1] + triangle[i - 1][j]\n",
    "        triangle.append(row)  # ✅ Add the row to the triangle\n",
    "        print(row)  # You can keep printing if you want to see each row\n",
    "\n",
    "\n",
    "pasc_test(5)"
   ]
  },
  {
   "cell_type": "code",
   "execution_count": 147,
   "metadata": {},
   "outputs": [
    {
     "name": "stdout",
     "output_type": "stream",
     "text": [
      "1\n",
      "3\n",
      "5\n",
      "7\n",
      "10\n",
      "11\n",
      "16\n",
      "20\n",
      "23\n",
      "target found 23\n"
     ]
    }
   ],
   "source": [
    "def search_matrix(matrix, target):\n",
    "    \"\"\"\n",
    "    Function to search for a target in the matrix.\n",
    "    :param matrix: List[List[int]] -> The input matrix\n",
    "    :param target: int -> The target value to search for\n",
    "    :return: bool -> True if target is found, False otherwise\n",
    "    \"\"\"\n",
    "    n = len(matrix)\n",
    "    for i in range(n):\n",
    "        for j in range(n + 1):\n",
    "            print(matrix[i][j])\n",
    "            if matrix[i][j] == target:\n",
    "                print(\"target found\", target)\n",
    "                break\n",
    "\n",
    "\n",
    "search_matrix([[1, 3, 5, 7], [10, 11, 16, 20], [23, 30, 34, 60]], 23)"
   ]
  },
  {
   "cell_type": "code",
   "execution_count": null,
   "metadata": {},
   "outputs": [],
   "source": []
  },
  {
   "cell_type": "code",
   "execution_count": null,
   "metadata": {},
   "outputs": [],
   "source": [
    "i = 0\n",
    "1"
   ]
  },
  {
   "cell_type": "code",
   "execution_count": null,
   "metadata": {},
   "outputs": [],
   "source": [
    "def generate(numRows):\n",
    "\n",
    "    # Initialize a list to hold the rows of Pascal's Triangle\n",
    "    triangle = []\n",
    "\n",
    "    # Loop to generate each row\n",
    "    for row_num in range(numRows):\n",
    "        # Initialize the current row with 1s, the first and last element\n",
    "        row = [1] * (row_num + 1)\n",
    "\n",
    "        # Loop to calculate the intermediate values of the row\n",
    "        for j in range(1, row_num):\n",
    "            row[j] = triangle[row_num - 1][j - 1] + triangle[row_num - 1][j]"
   ]
  },
  {
   "cell_type": "code",
   "execution_count": 148,
   "metadata": {},
   "outputs": [
    {
     "name": "stdout",
     "output_type": "stream",
     "text": [
      "22.666666666666668\n"
     ]
    }
   ],
   "source": [
    "class student:\n",
    "    def __init__(self, name, mark1, mark2, mark3):\n",
    "        self.name = name\n",
    "        self.mark1 = mark1\n",
    "        self.mark2 = mark2\n",
    "        self.mark3 = mark3\n",
    "\n",
    "    def print_avg(self):\n",
    "        avg = (self.mark1 + self.mark2 + self.mark3) / 3\n",
    "        print(avg)\n",
    "\n",
    "\n",
    "s1 = student(\"mp\", 21, 23, 24)\n",
    "s1.print_avg()"
   ]
  },
  {
   "cell_type": "code",
   "execution_count": 153,
   "metadata": {},
   "outputs": [
    {
     "name": "stdout",
     "output_type": "stream",
     "text": [
      "1\n",
      "2\n",
      "3\n",
      "4\n",
      "5\n",
      "None\n"
     ]
    }
   ],
   "source": [
    "def linea_search(arr, num):\n",
    "    for i in arr:\n",
    "        print(i)\n",
    "        if i == num:\n",
    "            return True\n",
    "            break\n",
    "\n",
    "\n",
    "print(linea_search([1, 2, 3, 4, 5], 10))"
   ]
  },
  {
   "cell_type": "code",
   "execution_count": 172,
   "metadata": {},
   "outputs": [
    {
     "name": "stdout",
     "output_type": "stream",
     "text": [
      "2\n",
      "3\n",
      "4\n",
      "mid is\n"
     ]
    },
    {
     "data": {
      "text/plain": [
       "4"
      ]
     },
     "execution_count": 172,
     "metadata": {},
     "output_type": "execute_result"
    }
   ],
   "source": [
    "def binar_search(arr, num):\n",
    "    start = 0\n",
    "    end = len(arr) - 1\n",
    "    while start <= end:\n",
    "        mid = start + (end - start) // 2\n",
    "        print(mid)\n",
    "        if arr[mid] == num:\n",
    "            print(\"mid is\")\n",
    "            return mid\n",
    "        elif num > arr[mid]:\n",
    "            start = mid + 1\n",
    "        elif num < arr[mid]:\n",
    "            end = mid - 1\n",
    "    return -1\n",
    "\n",
    "\n",
    "binar_search([1, 2, 3, 4, 5], 5)"
   ]
  }
 ],
 "metadata": {
  "kernelspec": {
   "display_name": "dsacourse",
   "language": "python",
   "name": "python3"
  },
  "language_info": {
   "codemirror_mode": {
    "name": "ipython",
    "version": 3
   },
   "file_extension": ".py",
   "mimetype": "text/x-python",
   "name": "python",
   "nbconvert_exporter": "python",
   "pygments_lexer": "ipython3",
   "version": "3.12.0"
  }
 },
 "nbformat": 4,
 "nbformat_minor": 2
}
