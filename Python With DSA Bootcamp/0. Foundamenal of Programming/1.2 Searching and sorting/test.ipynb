{
 "cells": [
  {
   "cell_type": "code",
   "execution_count": 8,
   "metadata": {},
   "outputs": [
    {
     "name": "stdout",
     "output_type": "stream",
     "text": [
      "[4, 3, 2, 1]\n",
      "2\n",
      "1\n",
      "[3, 2, 1, -1]\n",
      "1\n",
      "-1\n",
      "[1, 1, -1, -2]\n",
      "1\n",
      "1\n",
      "-1\n",
      "-2\n",
      "[-1, -1, -2, -3]\n",
      "-1\n",
      "-1\n",
      "-2\n",
      "-3\n"
     ]
    },
    {
     "data": {
      "text/plain": [
       "7"
      ]
     },
     "execution_count": 8,
     "metadata": {},
     "output_type": "execute_result"
    }
   ],
   "source": [
    "def countNegatives(grid):\n",
    "    count = 0\n",
    "\n",
    "\n",
    "# [1, 1, -1, -2]\n",
    "# [[4, 3, 2, 1], [3, 2, 1, -1], [1, 1, -1, -2], [-1, -1, -2, -3]]\n",
    "\n",
    "countNegatives([[4, 3, 2, 1], [3, 2, 1, -1], [1, 1, -1, -2], [-1, -1, -2, -3]])"
   ]
  },
  {
   "cell_type": "code",
   "execution_count": 19,
   "metadata": {},
   "outputs": [
    {
     "name": "stdout",
     "output_type": "stream",
     "text": [
      "a b\n",
      "c d\n"
     ]
    }
   ],
   "source": [
    "dict = {\"a\": \"b\", \"c\": \"d\"}\n",
    "dict1 = {\"a\": \"b\", \"c\": \"d\"}\n",
    "for key, value in dict.items():\n",
    "    print(key, value)"
   ]
  },
  {
   "cell_type": "code",
   "execution_count": 20,
   "metadata": {},
   "outputs": [
    {
     "data": {
      "text/plain": [
       "'b'"
      ]
     },
     "execution_count": 20,
     "metadata": {},
     "output_type": "execute_result"
    }
   ],
   "source": [
    "dict[\"a\"]"
   ]
  },
  {
   "cell_type": "code",
   "execution_count": 22,
   "metadata": {},
   "outputs": [
    {
     "data": {
      "text/plain": [
       "{'a': 'b', 'c': 'd'}"
      ]
     },
     "execution_count": 22,
     "metadata": {},
     "output_type": "execute_result"
    }
   ],
   "source": [
    "dict1"
   ]
  },
  {
   "cell_type": "code",
   "execution_count": 30,
   "metadata": {},
   "outputs": [
    {
     "name": "stdout",
     "output_type": "stream",
     "text": [
      "None\n"
     ]
    }
   ],
   "source": [
    "d = dict.update(dict1)\n",
    "print(d)"
   ]
  },
  {
   "cell_type": "code",
   "execution_count": 32,
   "metadata": {},
   "outputs": [
    {
     "name": "stdout",
     "output_type": "stream",
     "text": [
      "{'a': 1, 'b': 3, 'd': 4}\n"
     ]
    }
   ],
   "source": [
    "dict1 = {\"a\": 1, \"b\": 2}\n",
    "dict2 = {\"b\": 3, \"d\": 4}\n",
    "\n",
    "dict1.update(dict2)\n",
    "print(dict1)  # dict1 is now updated"
   ]
  },
  {
   "cell_type": "code",
   "execution_count": 50,
   "metadata": {},
   "outputs": [
    {
     "name": "stdout",
     "output_type": "stream",
     "text": [
      "[1, 4, 9, 16, 25]\n"
     ]
    },
    {
     "data": {
      "text/plain": [
       "[4, 5]"
      ]
     },
     "execution_count": 50,
     "metadata": {},
     "output_type": "execute_result"
    }
   ],
   "source": [
    "x = 5\n",
    "t = lambda x: x * x\n",
    "t(6)\n",
    "\n",
    "\n",
    "print(list(map(t, [1, 2, 3, 4, 5])))\n",
    "list(filter(lambda x: x > 3, [1, 2, 3, 4, 5]))"
   ]
  },
  {
   "cell_type": "code",
   "execution_count": null,
   "metadata": {},
   "outputs": [],
   "source": []
  },
  {
   "cell_type": "code",
   "execution_count": null,
   "metadata": {},
   "outputs": [],
   "source": []
  },
  {
   "cell_type": "code",
   "execution_count": null,
   "metadata": {},
   "outputs": [],
   "source": []
  },
  {
   "cell_type": "code",
   "execution_count": 51,
   "metadata": {},
   "outputs": [
    {
     "data": {
      "text/plain": [
       "4"
      ]
     },
     "execution_count": 51,
     "metadata": {},
     "output_type": "execute_result"
    }
   ],
   "source": [
    "t = lambda x: x + x\n",
    "t(2)"
   ]
  },
  {
   "cell_type": "code",
   "execution_count": 54,
   "metadata": {},
   "outputs": [
    {
     "data": {
      "text/plain": [
       "[2, 4, 8, 10, 12]"
      ]
     },
     "execution_count": 54,
     "metadata": {},
     "output_type": "execute_result"
    }
   ],
   "source": [
    "lst = [1, 2, 4, 5, 6]\n",
    "list(map(t, lst))"
   ]
  },
  {
   "cell_type": "code",
   "execution_count": 56,
   "metadata": {},
   "outputs": [],
   "source": [
    "m = lambda x: x % 2 == 0"
   ]
  },
  {
   "cell_type": "code",
   "execution_count": 57,
   "metadata": {},
   "outputs": [
    {
     "data": {
      "text/plain": [
       "[2, 4, 6]"
      ]
     },
     "execution_count": 57,
     "metadata": {},
     "output_type": "execute_result"
    }
   ],
   "source": [
    "list(filter(m, lst))"
   ]
  },
  {
   "cell_type": "code",
   "execution_count": null,
   "metadata": {},
   "outputs": [],
   "source": []
  },
  {
   "cell_type": "code",
   "execution_count": 62,
   "metadata": {},
   "outputs": [
    {
     "data": {
      "text/plain": [
       "4"
      ]
     },
     "execution_count": 62,
     "metadata": {},
     "output_type": "execute_result"
    }
   ],
   "source": [
    "def binaray_search(arr, target):\n",
    "    start = 0\n",
    "    end = len(arr) - 1\n",
    "    while start <= end:\n",
    "        mid = (start + end) // 2\n",
    "        if target > arr[mid]:\n",
    "            start = mid + 1\n",
    "        elif target < arr[mid]:\n",
    "            end = mid - 1\n",
    "\n",
    "        else:\n",
    "            return mid\n",
    "\n",
    "    return -1\n",
    "\n",
    "\n",
    "binaray_search([2, 1, 4, 5, 6, 7], 6)"
   ]
  },
  {
   "cell_type": "code",
   "execution_count": 65,
   "metadata": {},
   "outputs": [
    {
     "name": "stdout",
     "output_type": "stream",
     "text": [
      "[1, 4, 5, 2, 3]\n",
      "[1, 4, 5, 2, 3]\n",
      "[1, 4, 2, 5, 3]\n",
      "[1, 4, 2, 3, 5]\n",
      "[1, 4, 2, 3, 5]\n",
      "[1, 2, 4, 3, 5]\n",
      "[1, 2, 3, 4, 5]\n",
      "[1, 2, 3, 4, 5]\n",
      "[1, 2, 3, 4, 5]\n",
      "[1, 2, 3, 4, 5]\n"
     ]
    },
    {
     "data": {
      "text/plain": [
       "[1, 2, 3, 4, 5]"
      ]
     },
     "execution_count": 65,
     "metadata": {},
     "output_type": "execute_result"
    }
   ],
   "source": [
    "def bubble_sort(arr):\n",
    "    n = len(arr)\n",
    "    for i in range(n):\n",
    "        for j in range(0, n - 1 - i):\n",
    "            if arr[j] > arr[j + 1]:\n",
    "                arr[j], arr[j + 1] = arr[j + 1], arr[j]\n",
    "            print(arr)\n",
    "    return arr\n",
    "\n",
    "\n",
    "bubble_sort([4, 1, 5, 2, 3])"
   ]
  },
  {
   "cell_type": "code",
   "execution_count": 67,
   "metadata": {},
   "outputs": [
    {
     "data": {
      "text/plain": [
       "[1, 2, 3, 4, 5]"
      ]
     },
     "execution_count": 67,
     "metadata": {},
     "output_type": "execute_result"
    }
   ],
   "source": [
    "def selection_sort(arr):\n",
    "    n = len(arr)\n",
    "    for i in range(0, n):\n",
    "        smallest = i\n",
    "        for j in range(i + 1, n):\n",
    "            if arr[smallest] > arr[j]:\n",
    "                smallest = j\n",
    "\n",
    "        arr[i], arr[smallest] = arr[smallest], arr[i]\n",
    "    return arr\n",
    "\n",
    "\n",
    "selection_sort([4, 1, 5, 2, 3])"
   ]
  },
  {
   "cell_type": "code",
   "execution_count": 83,
   "metadata": {},
   "outputs": [
    {
     "data": {
      "text/plain": [
       "[1, 2, 3, 4, 5]"
      ]
     },
     "execution_count": 83,
     "metadata": {},
     "output_type": "execute_result"
    }
   ],
   "source": [
    "# 4 1 5 2 3  current=1 previous 4\n",
    "\n",
    "\n",
    "def insertion_sort(arr):\n",
    "    n = len(arr)\n",
    "    for i in range(1, n):\n",
    "        current = arr[i]\n",
    "        previous = i - 1\n",
    "        while previous >= 0 and (arr[previous] > current):\n",
    "            arr[previous + 1] = arr[previous]\n",
    "            # arr[previous]=current\n",
    "            previous = previous - 1\n",
    "        arr[previous + 1] = current\n",
    "    return arr\n",
    "\n",
    "\n",
    "insertion_sort([4, 1, 5, 2, 3])\n",
    "\n",
    "# current 1\n",
    "# previous 0"
   ]
  },
  {
   "cell_type": "code",
   "execution_count": 92,
   "metadata": {},
   "outputs": [
    {
     "data": {
      "text/plain": [
       "5"
      ]
     },
     "execution_count": 92,
     "metadata": {},
     "output_type": "execute_result"
    }
   ],
   "source": [
    "[3, 4, 5, 6, 7, 0, 1, 2]\n",
    "\n",
    "\n",
    "def rotated_sorted_array(arr, target):\n",
    "    start = 0\n",
    "    end = len(arr) - 1\n",
    "\n",
    "    while start <= end:\n",
    "        mid = start + (end - start) // 2\n",
    "        if arr[mid] == target:\n",
    "            return mid\n",
    "        if arr[start] <= arr[mid]:\n",
    "            if arr[start] <= target <= arr[mid]:\n",
    "                end = mid - 1\n",
    "            else:\n",
    "                start = mid + 1\n",
    "        else:\n",
    "            if arr[mid] <= target <= arr[end]:\n",
    "                start = mid + 1\n",
    "            else:\n",
    "                end = mid - 1\n",
    "    return -1\n",
    "\n",
    "\n",
    "rotated_sorted_array([3, 4, 5, 6, 7, 0, 1, 2], 0)"
   ]
  },
  {
   "cell_type": "code",
   "execution_count": 97,
   "metadata": {},
   "outputs": [
    {
     "data": {
      "text/plain": [
       "0"
      ]
     },
     "execution_count": 97,
     "metadata": {},
     "output_type": "execute_result"
    }
   ],
   "source": [
    "def next_greatest_letter(letters, target):\n",
    "    \"\"\"\n",
    "    Return the smallest character in letters that is lexicographically greater than target.\n",
    "\n",
    "    Parameters:\n",
    "    letters (List[char]): Sorted array of characters.\n",
    "    target (char): The target character.\n",
    "\n",
    "    Returns:\n",
    "    char: The smallest character greater than target, or the first character if no such character exists.\n",
    "    \"\"\"\n",
    "    # Implement the function logic\n",
    "    start = 0\n",
    "    end = len(letters) - 1\n",
    "    while start <= end:\n",
    "        mid = start + (end - start) // 2\n",
    "        if letters[mid] == target:\n",
    "            return mid\n",
    "        elif letters[mid] > target:\n",
    "            end = mid - 1\n",
    "        else:\n",
    "            start = mid + 1\n",
    "    return letters[0]\n",
    "\n",
    "\n",
    "next_greatest_letter([\"c\", \"f\", \"j\"], \"c\")"
   ]
  },
  {
   "cell_type": "code",
   "execution_count": 105,
   "metadata": {},
   "outputs": [
    {
     "name": "stdout",
     "output_type": "stream",
     "text": [
      "lef 3\n",
      "len 4\n",
      "3\n",
      "j\n"
     ]
    },
    {
     "data": {
      "text/plain": [
       "'j'"
      ]
     },
     "execution_count": 105,
     "metadata": {},
     "output_type": "execute_result"
    }
   ],
   "source": [
    "def next_greatest_letter(letters, target):\n",
    "    \"\"\"\n",
    "    Return the smallest character in letters that is lexicographically greater than target.\n",
    "\n",
    "    Parameters:\n",
    "    letters (List[char]): Sorted array of characters.\n",
    "    target (char): The target character.\n",
    "\n",
    "    Returns:\n",
    "    char: The smallest character greater than target, or the first character if no such character exists.\n",
    "    \"\"\"\n",
    "    # Binary search approach to find the smallest character greater than the target\n",
    "    left, right = 0, len(letters)\n",
    "\n",
    "    # Use binary search to find the correct position\n",
    "    while left < right:\n",
    "        mid = left + (right - left) // 2\n",
    "\n",
    "        # If the mid character is greater than the target, it could be a potential answer\n",
    "        if letters[mid] > target:\n",
    "            right = mid\n",
    "        else:\n",
    "            left = mid + 1\n",
    "\n",
    "    # If 'left' is out of bounds, return the first character (circular condition)\n",
    "    print(\"lef\", left)\n",
    "    print(\"len\", len(letters))\n",
    "    print(left % len(letters))\n",
    "    print(letters[left % len(letters)])\n",
    "    return letters[left % len(letters)]\n",
    "\n",
    "\n",
    "next_greatest_letter([\"c\", \"f\", \"f\", \"j\"], \"f\")"
   ]
  },
  {
   "cell_type": "code",
   "execution_count": null,
   "metadata": {},
   "outputs": [],
   "source": []
  },
  {
   "cell_type": "code",
   "execution_count": 138,
   "metadata": {},
   "outputs": [
    {
     "name": "stdout",
     "output_type": "stream",
     "text": [
      "[5, 5]\n"
     ]
    }
   ],
   "source": [
    "def searchRange(nums, target):\n",
    "\n",
    "    def left_serch(nums, target):  # left\n",
    "        start = 0\n",
    "        end = len(nums) - 1\n",
    "        result = -1\n",
    "        while start <= end:\n",
    "            mid = (start + end) // 2\n",
    "            if nums[mid] == target:\n",
    "                result = mid\n",
    "                end = mid - 1\n",
    "            elif nums[mid] < target:\n",
    "                start = mid + 1\n",
    "            else:\n",
    "                end = mid - 1\n",
    "        return result\n",
    "\n",
    "    def right_seach(nums, target):\n",
    "        start = 0\n",
    "        end = len(nums) - 1\n",
    "        result = -1\n",
    "        while start <= end:\n",
    "            mid = (start + end) // 2\n",
    "            if nums[mid] == target:\n",
    "                result = mid\n",
    "                start = mid + 1\n",
    "            elif nums[mid] < target:\n",
    "                start = mid + 1\n",
    "            else:\n",
    "                end = mid - 1\n",
    "\n",
    "        return result\n",
    "\n",
    "    tstart = left_serch(nums, target)\n",
    "    tend = right_seach(nums, target)\n",
    "\n",
    "    return [tstart, tend]\n",
    "\n",
    "\n",
    "print(searchRange([5, 7, 7, 8, 8, 10], 10))"
   ]
  },
  {
   "cell_type": "code",
   "execution_count": null,
   "metadata": {},
   "outputs": [],
   "source": []
  },
  {
   "cell_type": "code",
   "execution_count": null,
   "metadata": {},
   "outputs": [],
   "source": []
  },
  {
   "cell_type": "code",
   "execution_count": 139,
   "metadata": {},
   "outputs": [
    {
     "name": "stdout",
     "output_type": "stream",
     "text": [
      "[5, 5]\n"
     ]
    }
   ],
   "source": [
    "def searchRange(nums, target):\n",
    "    \"\"\"\n",
    "    Find the starting and ending position of a given target value in a sorted array.\n",
    "    Use binary search to find both the first and last occurrence of the target.\n",
    "    \"\"\"\n",
    "\n",
    "    def findFirst(nums, target):\n",
    "        \"\"\"\n",
    "        Find the first occurrence of the target using binary search.\n",
    "        \"\"\"\n",
    "        left, right = 0, len(nums) - 1\n",
    "        result = -1\n",
    "        while left <= right:\n",
    "            mid = (left + right) // 2\n",
    "            if nums[mid] == target:\n",
    "                result = mid\n",
    "                right = mid - 1\n",
    "            elif nums[mid] < target:\n",
    "                left = mid + 1\n",
    "            else:\n",
    "                right = mid - 1\n",
    "        return result\n",
    "\n",
    "    def findLast(nums, target):\n",
    "        \"\"\"\n",
    "        Find the last occurrence of the target using binary search.\n",
    "        \"\"\"\n",
    "        left, right = 0, len(nums) - 1\n",
    "        result = -1\n",
    "        while left <= right:\n",
    "            mid = (left + right) // 2\n",
    "            if nums[mid] == target:\n",
    "                result = mid\n",
    "                left = mid + 1\n",
    "            elif nums[mid] < target:\n",
    "                left = mid + 1\n",
    "            else:\n",
    "                right = mid - 1\n",
    "        return result\n",
    "\n",
    "    start = findFirst(nums, target)\n",
    "    end = findLast(nums, target)\n",
    "\n",
    "    return [start, end]\n",
    "\n",
    "\n",
    "print(searchRange([5, 7, 7, 8, 8, 10], 10))"
   ]
  },
  {
   "cell_type": "code",
   "execution_count": null,
   "metadata": {},
   "outputs": [],
   "source": []
  },
  {
   "cell_type": "code",
   "execution_count": null,
   "metadata": {},
   "outputs": [],
   "source": [
    "        \"\"\"\n",
    "        Find the first occurrence of the target using binary search.\n",
    "        \"\"\"\n",
    "        left, right = 0, len(nums) - 1\n",
    "        result = -1\n",
    "        while left <= right:\n",
    "            mid = (left + right) // 2\n",
    "            if nums[mid] == target:\n",
    "                result = mid\n",
    "                right = mid - 1\n",
    "            elif nums[mid] < target:\n",
    "                left = mid + 1\n",
    "            else:\n",
    "                right = mid - 1\n",
    "        return result\n",
    " \n",
    "    def findLast(nums, target):\n",
    "        \"\"\"\n",
    "        Find the last occurrence of the target using binary search.\n",
    "        \"\"\"\n",
    "        left, right = 0, len(nums) - 1\n",
    "        result = -1\n",
    "        while left <= right:\n",
    "            mid = (left + right) // 2\n",
    "            if nums[mid] == target:\n",
    "                result = mid\n",
    "                left = mid + 1\n",
    "            elif nums[mid] < target:\n",
    "                left = mid + 1\n",
    "            else:\n",
    "                right = mid - 1\n",
    "        return result\n",
    " \n",
    "    start = findFirst(nums, target)\n",
    "    end = findLast(nums, target)\n",
    " \n",
    "    return [start, end]"
   ]
  },
  {
   "cell_type": "code",
   "execution_count": 147,
   "metadata": {},
   "outputs": [
    {
     "data": {
      "text/plain": [
       "[8, 9, 10, 7]"
      ]
     },
     "execution_count": 147,
     "metadata": {},
     "output_type": "execute_result"
    }
   ],
   "source": [
    "def rotate_left(arr, D):\n",
    "    st = arr[0:D]\n",
    "    mt = arr[D:]\n",
    "\n",
    "    return mt + st\n",
    "\n",
    "\n",
    "rotate_left([7, 8, 9, 10], 1)"
   ]
  },
  {
   "cell_type": "code",
   "execution_count": 157,
   "metadata": {},
   "outputs": [
    {
     "name": "stdout",
     "output_type": "stream",
     "text": [
      "1000\n"
     ]
    },
    {
     "data": {
      "text/plain": [
       "[1, 0, 0, 0]"
      ]
     },
     "execution_count": 157,
     "metadata": {},
     "output_type": "execute_result"
    }
   ],
   "source": [
    "def plus_one(digits):\n",
    "    \"\"\"\n",
    "    Function to increment a large integer represented as a list of digits by one.\n",
    "    :param digits: List[int] -> List of digits representing the large integer\n",
    "    :return: List[int] -> The list representing the integer after incrementing\n",
    "    \"\"\"\n",
    "    # TODO: Implement this function\n",
    "    s = \"\"\n",
    "    for i in digits:\n",
    "        s = s + str(i)\n",
    "    s = int(s) + 1\n",
    "    s = str(s)\n",
    "    lst = []\n",
    "    for i in s:\n",
    "        lst.append(int(i))\n",
    "    print(s)\n",
    "    return lst\n",
    "\n",
    "\n",
    "plus_one([9, 9, 9])"
   ]
  },
  {
   "cell_type": "code",
   "execution_count": null,
   "metadata": {},
   "outputs": [],
   "source": [
    "Output: [3, 4, 5, 1, 2]"
   ]
  },
  {
   "cell_type": "code",
   "execution_count": 193,
   "metadata": {},
   "outputs": [
    {
     "name": "stdout",
     "output_type": "stream",
     "text": [
      "2\n"
     ]
    }
   ],
   "source": [
    "def find_missing_number(nums):\n",
    "    \"\"\"\n",
    "    Function to find the missing number in the array.\n",
    "    :param nums: List[int] -> A list of distinct integers in the range [0, n]\n",
    "    :return: int -> The missing number in the range\n",
    "    \"\"\"\n",
    "    # TODO: Implement this function\n",
    "    n = len(nums)\n",
    "    lst = []\n",
    "    for i in range(0, n + 1):\n",
    "        lst.append(i)\n",
    "    diff = [item for item in lst if item not in nums]\n",
    "    return diff[0]\n",
    "    print(diff)\n",
    "\n",
    "\n",
    "print(find_missing_number([0, 1]))"
   ]
  },
  {
   "cell_type": "code",
   "execution_count": 207,
   "metadata": {},
   "outputs": [
    {
     "name": "stdout",
     "output_type": "stream",
     "text": [
      "[4, 2, 4, 3, 5, 1, 0, 0, 0, 0]\n"
     ]
    }
   ],
   "source": [
    "def move_zeroes(nums):\n",
    "    \"\"\"\n",
    "    Function to move all 0's to the end of the array while maintaining the order of non-zero elements.\n",
    "    :param nums: List[int] -> A list of integers\n",
    "    :return: None -> The list is modified in place\n",
    "    \"\"\"\n",
    "    # TODO: Implement this function\n",
    "    count = nums.count(0)\n",
    "    while 0 in nums:\n",
    "        nums.remove(0)\n",
    "    nums.extend([0] * count)\n",
    "    print(nums)\n",
    "\n",
    "\n",
    "move_zeroes([4, 2, 4, 0, 0, 3, 0, 5, 1, 0])"
   ]
  },
  {
   "cell_type": "code",
   "execution_count": 238,
   "metadata": {},
   "outputs": [
    {
     "data": {
      "text/plain": [
       "11"
      ]
     },
     "execution_count": 238,
     "metadata": {},
     "output_type": "execute_result"
    }
   ],
   "source": [
    "def find_max_consecutive_ones(nums):\n",
    "    \"\"\"\n",
    "    Function to find the maximum number of consecutive 1's in a binary array.\n",
    "    :param nums: List[int] -> A binary array where each element is either 0 or 1\n",
    "    :return: int -> The maximum number of consecutive 1's\n",
    "    \"\"\"\n",
    "    current_count = 0\n",
    "    max_count = 0\n",
    "    for num in nums:\n",
    "        if num == 1:\n",
    "            current_count += 1\n",
    "        else:\n",
    "            max_count = max(current_count, max_count)\n",
    "            current_count = 0\n",
    "    return max(max_count, current_count)\n",
    "\n",
    "\n",
    "find_max_consecutive_ones(\n",
    "    [1, 1, 1, 1, 1, 1, 1, 1, 0, 1, 1, 1, 0, 1, 1, 1, 1, 1, 1, 1, 1, 1, 1, 1]\n",
    ")"
   ]
  },
  {
   "cell_type": "code",
   "execution_count": null,
   "metadata": {},
   "outputs": [],
   "source": []
  },
  {
   "cell_type": "code",
   "execution_count": null,
   "metadata": {},
   "outputs": [],
   "source": [
    "def find_max_consecutive_ones(nums):\n",
    "    \"\"\"\n",
    "    Function to find the maximum number of consecutive 1's in a binary array.\n",
    "    :param nums: List[int] -> A binary array where each element is either 0 or 1\n",
    "    :return: int -> The maximum number of consecutive 1's\n",
    "    \"\"\"\n",
    "    max_count = 0\n",
    "    current_count = 0\n",
    "\n",
    "    for num in nums:\n",
    "        if num == 1:\n",
    "            # Increment count of consecutive 1's\n",
    "            current_count += 1\n",
    "        else:\n",
    "            # Update max_count if needed and reset current_count\n",
    "            max_count = max(max_count, current_count)\n",
    "            current_count = 0\n",
    "\n",
    "    # Final check to update max_count after the loop\n",
    "    return max(max_count, current_count)"
   ]
  },
  {
   "cell_type": "code",
   "execution_count": 242,
   "metadata": {},
   "outputs": [
    {
     "name": "stdout",
     "output_type": "stream",
     "text": [
      "Requirement already satisfied: qrcode in /opt/anaconda3/envs/dsacourse/lib/python3.12/site-packages (8.1)\n",
      "zsh:1: no matches found: qrcode[pil]\n"
     ]
    }
   ],
   "source": [
    "! pip install qrcode\n",
    "! pip install qrcode[pil]"
   ]
  },
  {
   "cell_type": "code",
   "execution_count": 244,
   "metadata": {},
   "outputs": [
    {
     "name": "stdout",
     "output_type": "stream",
     "text": [
      "Collecting Pillow\n",
      "  Downloading pillow-11.2.1-cp312-cp312-macosx_11_0_arm64.whl.metadata (8.9 kB)\n",
      "Downloading pillow-11.2.1-cp312-cp312-macosx_11_0_arm64.whl (3.0 MB)\n",
      "\u001b[2K   \u001b[90m━━━━━━━━━━━━━━━━━━━━━━━━━━━━━━━━━━━━━━━━\u001b[0m \u001b[32m3.0/3.0 MB\u001b[0m \u001b[31m5.2 MB/s\u001b[0m eta \u001b[36m0:00:00\u001b[0ma \u001b[36m0:00:01\u001b[0m\n",
      "\u001b[?25hInstalling collected packages: Pillow\n",
      "Successfully installed Pillow-11.2.1\n"
     ]
    }
   ],
   "source": [
    "! pip install Pillow\n"
   ]
  },
  {
   "cell_type": "code",
   "execution_count": 247,
   "metadata": {},
   "outputs": [],
   "source": [
    "import qrcode\n",
    "from PIL import Image\n",
    "\n",
    "# Data to encode in the QR code\n",
    "data = \"https://medium.com/@ksaquib/nginx-zero-to-hero-your-ultimate-guide-from-beginner-to-advanced-mastery-57e2dad6a77a\"\n",
    "\n",
    "# Create QR code instance\n",
    "qr = qrcode.QRCode(\n",
    "    version=1,  # controls the size of the QR code\n",
    "    error_correction=qrcode.constants.ERROR_CORRECT_L,  # controls error correction\n",
    "    box_size=10,  # size of each box in pixels\n",
    "    border=4,  # thickness of the border (in boxes)\n",
    ")\n",
    "\n",
    "# Add data to the QR code\n",
    "qr.add_data(data)\n",
    "qr.make(fit=True)\n",
    "\n",
    "# Create an image of the QR code\n",
    "img = qr.make_image(fill=\"black\", back_color=\"white\")\n",
    "\n",
    "# Save the QR code image\n",
    "img.save(\"qrcode.png\")\n",
    "\n",
    "# To display the image directly (if using Jupyter or IPython)\n",
    "img.show()"
   ]
  }
 ],
 "metadata": {
  "kernelspec": {
   "display_name": "dsacourse",
   "language": "python",
   "name": "python3"
  },
  "language_info": {
   "codemirror_mode": {
    "name": "ipython",
    "version": 3
   },
   "file_extension": ".py",
   "mimetype": "text/x-python",
   "name": "python",
   "nbconvert_exporter": "python",
   "pygments_lexer": "ipython3",
   "version": "3.12.0"
  }
 },
 "nbformat": 4,
 "nbformat_minor": 2
}
